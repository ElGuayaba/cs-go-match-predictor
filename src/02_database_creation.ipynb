{
 "cells": [
  {
   "cell_type": "markdown",
   "metadata": {},
   "source": [
    "# 2. DATABASE CREATION\n",
    "---"
   ]
  },
  {
   "cell_type": "code",
   "execution_count": null,
   "metadata": {},
   "outputs": [],
   "source": [
    "# Import libraries\n",
    "import sqlite3 as sq\n",
    "import pandas as pd\n",
    "\n",
    "# Create the .db file\n",
    "con = sq.connect('../data/database/csgo_matches.db')\n",
    "\n",
    "# Prepare the data from the .csv file\n",
    "match_players = pd.read_csv('../data/raw/match_players.csv')\n",
    "match_results = pd.read_csv('../data/raw/match_results.csv')\n",
    "players_stats = pd.read_csv('../data/raw/players_stats.csv')\n",
    "\n",
    "# Insert the dataframe into the .db file\n",
    "\n",
    "match_players.to_sql('match_players', con, index=False, if_exists='replace')\n",
    "match_results.to_sql('match_results', con, index=False, if_exists='replace')\n",
    "players_stats.to_sql('players_stats', con, index=False, if_exists='replace')\n",
    "con.commit()\n"
   ]
  },
  {
   "cell_type": "code",
   "execution_count": 4,
   "metadata": {},
   "outputs": [],
   "source": [
    "# WRITE THE QUERY (REMOVING COLUMNS WITHOUT MEANINGFUL USE AS NAMES, LINKS, ETC.)\n",
    "query = \"\"\" \n",
    "SELECT adr, \n",
    "assists, \n",
    "deaths, \n",
    "fkdiff, \n",
    "hs, \n",
    "kdratio, \n",
    "kills, \n",
    "players.match_id, \n",
    "player_id, \n",
    "rating, \n",
    "data_unix, \n",
    "team_1_id, \n",
    "team_1_score, \n",
    "team_2_id, \n",
    "team_2_score, \n",
    "map, \n",
    "hour, \n",
    "day, \n",
    "week, \n",
    "month, \n",
    "year, \n",
    "weekday\n",
    "FROM match_players as players\n",
    "LEFT JOIN match_results as results ON players.match_id = results.match_id\n",
    "\"\"\""
   ]
  },
  {
   "cell_type": "code",
   "execution_count": 5,
   "metadata": {},
   "outputs": [],
   "source": [
    "# EXECUTE QUERY TO CREATE A NEW DATASET\n",
    "total_data = pd.read_sql_query(query,con)"
   ]
  },
  {
   "cell_type": "code",
   "execution_count": 6,
   "metadata": {},
   "outputs": [],
   "source": [
    "total_data.to_csv('../data/interim/player_match_data.csv',index=False)"
   ]
  },
  {
   "cell_type": "code",
   "execution_count": 7,
   "metadata": {},
   "outputs": [],
   "source": [
    "# Close the cursor and connection when done\n",
    "con.close()"
   ]
  }
 ],
 "metadata": {
  "kernelspec": {
   "display_name": "Python 3",
   "language": "python",
   "name": "python3"
  },
  "language_info": {
   "codemirror_mode": {
    "name": "ipython",
    "version": 3
   },
   "file_extension": ".py",
   "mimetype": "text/x-python",
   "name": "python",
   "nbconvert_exporter": "python",
   "pygments_lexer": "ipython3",
   "version": "3.11.5"
  }
 },
 "nbformat": 4,
 "nbformat_minor": 2
}
