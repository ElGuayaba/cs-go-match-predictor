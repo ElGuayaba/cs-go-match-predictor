{
 "cells": [
  {
   "cell_type": "markdown",
   "metadata": {},
   "source": [
    "# 2. DATABASE CREATION\n",
    "---"
   ]
  },
  {
   "cell_type": "markdown",
   "metadata": {},
   "source": [
    "The database used for this proyect will be created using sqlite as main tool. \n",
    "\n",
    "From the given tables, a Query will be performed to join them into a new single table available for work and analysis."
   ]
  },
  {
   "cell_type": "markdown",
   "metadata": {},
   "source": [
    "### 2.1. Creating database"
   ]
  },
  {
   "cell_type": "code",
   "execution_count": null,
   "metadata": {},
   "outputs": [],
   "source": [
    "# Import libraries\n",
    "import sqlite3 as sq\n",
    "import pandas as pd\n",
    "import os\n",
    "import platform\n",
    "\n",
    "# Create the .db file\n",
    "con = sq.connect(\"SPECIFY HERE WHERE YOU'D WANT TO CREATE THE DB\")\n",
    "\n",
    "# Prepare the data from the .csv file\n",
    "match_players = pd.read_csv('../data/raw/match_players.csv')\n",
    "match_results = pd.read_csv('../data/raw/match_results.csv')\n",
    "players_stats = pd.read_csv('../data/raw/players_stats.csv')\n",
    "\n",
    "# Insert the dataframe into the .db file\n",
    "\n",
    "match_players.to_sql('match_players', con, index=False, if_exists='replace')\n",
    "match_results.to_sql('match_results', con, index=False, if_exists='replace')\n",
    "players_stats.to_sql('players_stats', con, index=False, if_exists='replace')\n",
    "con.commit()\n"
   ]
  },
  {
   "cell_type": "markdown",
   "metadata": {},
   "source": [
    "### 2.2. Creating dataset from Query"
   ]
  },
  {
   "cell_type": "markdown",
   "metadata": {},
   "source": [
    "***Writting query***"
   ]
  },
  {
   "cell_type": "code",
   "execution_count": 8,
   "metadata": {},
   "outputs": [],
   "source": [
    "# WRITE THE QUERY (REMOVING COLUMNS WITHOUT MEANINGFUL USE AS NAMES, LINKS, ETC.)\n",
    "query = \"\"\" \n",
    "SELECT adr,\n",
    "assists, \n",
    "deaths, \n",
    "fkdiff, \n",
    "hs, \n",
    "kdratio, \n",
    "kills,\n",
    "rating,\n",
    "players.match_id, \n",
    "player_id, \n",
    "team_1_id, \n",
    "team_1_name, \n",
    "team_1_score, \n",
    "team_2_id, \n",
    "team_2_name, \n",
    "team_2_score,\n",
    "team_name,\n",
    "data_unix,\n",
    "map, \n",
    "hour, \n",
    "day, \n",
    "week, \n",
    "month, \n",
    "year, \n",
    "weekday\n",
    "FROM match_players as players\n",
    "LEFT JOIN match_results as results ON players.match_id = results.match_id\n",
    "\"\"\""
   ]
  },
  {
   "cell_type": "markdown",
   "metadata": {},
   "source": [
    "***Executing query***"
   ]
  },
  {
   "cell_type": "code",
   "execution_count": 9,
   "metadata": {},
   "outputs": [],
   "source": [
    "# EXECUTE QUERY TO CREATE A NEW DATASET\n",
    "total_data = pd.read_sql_query(query,con)"
   ]
  },
  {
   "cell_type": "markdown",
   "metadata": {},
   "source": [
    "***Saving dataset in folder***"
   ]
  },
  {
   "cell_type": "code",
   "execution_count": 18,
   "metadata": {},
   "outputs": [],
   "source": [
    "save_dir = '../data/interim/player_match_data.csv'\n",
    "\n",
    "if platform.system() == 'Windows' and (not os.path.exists('../data/interim')):\n",
    "    os.mkdir('../data/interim')\n",
    "\n",
    "total_data.to_csv(save_dir,index=False)"
   ]
  },
  {
   "cell_type": "markdown",
   "metadata": {},
   "source": [
    "***Closing database connection***"
   ]
  },
  {
   "cell_type": "code",
   "execution_count": 19,
   "metadata": {},
   "outputs": [],
   "source": [
    "# Close the cursor and connection when done\n",
    "con.close()"
   ]
  },
  {
   "cell_type": "markdown",
   "metadata": {},
   "source": [
    "---\n",
    "End of database creation"
   ]
  }
 ],
 "metadata": {
  "kernelspec": {
   "display_name": "Python 3",
   "language": "python",
   "name": "python3"
  },
  "language_info": {
   "codemirror_mode": {
    "name": "ipython",
    "version": 3
   },
   "file_extension": ".py",
   "mimetype": "text/x-python",
   "name": "python",
   "nbconvert_exporter": "python",
   "pygments_lexer": "ipython3",
   "version": "3.11.5"
  }
 },
 "nbformat": 4,
 "nbformat_minor": 2
}
