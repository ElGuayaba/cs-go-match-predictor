{
 "cells": [
  {
   "cell_type": "markdown",
   "metadata": {},
   "source": [
    "# 4. Exploratory Data Analaysis\n",
    "---"
   ]
  },
  {
   "cell_type": "markdown",
   "metadata": {},
   "source": [
    "### Introduction\n",
    "\n",
    "***1. Main objective of EDA.***\n",
    "\n",
    "The main objective of this Exploratory Data Analysis is to obtain information that can led the ML team to answers in order to predict a possible outcome of future cs-go matches. The hypotesis of the ML team is the following: ***It is possible to predict a cs-go match outcome by the information about the players.***\n",
    "\n",
    "The dataset used for this EDA is player_match_data.csv, which is a combination from the originals match_players.csv and match_results.csv. and was done through SQL queries as part of the proyect requirements. The resultant dataset provides information of every match from 2012 to 2017 from a player's perspective. \n",
    "\n",
    "***2. Structure of the EDA.***\n",
    " \n",
    "The Eda will be divide in two parts.In the **The first part**, we will use the given information to study the correlation between variables. It includes the data cleaning, target creation, multivariable analysis and outlier analysis. **The second part** will consist in shaping the dataset in order to fit the requirements of the Machine Learning Model. It will be developed in the feature engineering section.\n",
    "\n",
    "***3. Issues of the dataset.***\n",
    "\n",
    "Before starting the analysis, there are two main issues that must be corrected in order to continue. \n",
    "1. **There is no target variable**. Each row provides information about the player's performance in a match but there is no information about the outcome of the player.\n",
    "2. **The player is not directly connected to a team**. Each row has the player id and the team name. Moreover, it has also the teams ids and scores. However, it falied to connect the team name provided with any of the team ids, so with the given information it is impossible to know if the player has won or lost the match. \n",
    "\n",
    "In order to solve this problems and continue with the EDA analysis, the following variables will be created:\n",
    "\n",
    "1. **team_id**. This will be a id-variable that will bring the team id using the team name.\n",
    "\n",
    "2. **winning team**. A categorical variable called 'winning_team' and consists in a number (0, 1 or 2). This variable will calculate the diference between team_1_score and team_2_score and will return the winner of the match.\n",
    "    - 0 means draw,\n",
    "    - 1 means that team 1 has won the match,\n",
    "    - 2 means that team 2 has won the match.\n",
    "\n",
    "    This variable will be analyized as a possible target variable. \n",
    "\n",
    "3. **winning_team_id**. This will be a id-variable that simply returns the winning team id. It uses the winning team outcome and returns the ID of one of both teams, or 0 if the match resulted in a draw. This variable will be only used to support the target variable.\n",
    "\n",
    "4. **player has won**. A categorical target variable that provides 1 or 0 depending whether the player was part of the winning team or not. This will be calculated using the player_team_id and winning_team_id. If they are the same, it will return a 1. This means that both defeats and draws will be counted as 0.\n",
    "\n",
    "It is important to state that once the variables have fullfiled their purpose - that is to develop de target variable successfully- they will be deleted.\n",
    "\n",
    "\n",
    "***4. Feature engineering.***\n",
    "\n",
    "The main objective of this project is to predict match outcomes based on players’ names. After analyzing and filtering the predictors by their correlation, several new features will be generated. This is necessary to reshape the information and enable the future machine learning model to analyze the relevant data. Further details will be explained in the corresponding section. \n"
   ]
  },
  {
   "cell_type": "markdown",
   "metadata": {},
   "source": [
    "### 4.0. Importing libraries & dataset and creating variables"
   ]
  },
  {
   "cell_type": "markdown",
   "metadata": {},
   "source": [
    "***Importing Libraries and dataset***"
   ]
  },
  {
   "cell_type": "code",
   "execution_count": 1,
   "metadata": {},
   "outputs": [],
   "source": [
    "# Libraries\n",
    "import pandas as pd\n",
    "import numpy as np\n",
    "import seaborn as sns\n",
    "import matplotlib.pyplot as plt\n",
    "\n",
    "# Dataset\n",
    "total_data = pd.read_csv('../data/interim/player_match_data.csv')"
   ]
  },
  {
   "cell_type": "markdown",
   "metadata": {},
   "source": [
    "***Overview of the dataset***"
   ]
  },
  {
   "cell_type": "code",
   "execution_count": 2,
   "metadata": {},
   "outputs": [
    {
     "data": {
      "text/html": [
       "<div>\n",
       "<style scoped>\n",
       "    .dataframe tbody tr th:only-of-type {\n",
       "        vertical-align: middle;\n",
       "    }\n",
       "\n",
       "    .dataframe tbody tr th {\n",
       "        vertical-align: top;\n",
       "    }\n",
       "\n",
       "    .dataframe thead th {\n",
       "        text-align: right;\n",
       "    }\n",
       "</style>\n",
       "<table border=\"1\" class=\"dataframe\">\n",
       "  <thead>\n",
       "    <tr style=\"text-align: right;\">\n",
       "      <th></th>\n",
       "      <th>adr</th>\n",
       "      <th>assists</th>\n",
       "      <th>deaths</th>\n",
       "      <th>fkdiff</th>\n",
       "      <th>hs</th>\n",
       "      <th>kdratio</th>\n",
       "      <th>kills</th>\n",
       "      <th>rating</th>\n",
       "      <th>match_id</th>\n",
       "      <th>player_id</th>\n",
       "      <th>...</th>\n",
       "      <th>team_2_score</th>\n",
       "      <th>team_name</th>\n",
       "      <th>data_unix</th>\n",
       "      <th>map</th>\n",
       "      <th>hour</th>\n",
       "      <th>day</th>\n",
       "      <th>week</th>\n",
       "      <th>month</th>\n",
       "      <th>year</th>\n",
       "      <th>weekday</th>\n",
       "    </tr>\n",
       "  </thead>\n",
       "  <tbody>\n",
       "    <tr>\n",
       "      <th>0</th>\n",
       "      <td>163.2</td>\n",
       "      <td>3</td>\n",
       "      <td>10</td>\n",
       "      <td>1</td>\n",
       "      <td>10</td>\n",
       "      <td>90.0%</td>\n",
       "      <td>32</td>\n",
       "      <td>2.44</td>\n",
       "      <td>32227</td>\n",
       "      <td>5736</td>\n",
       "      <td>...</td>\n",
       "      <td>16</td>\n",
       "      <td>g3x</td>\n",
       "      <td>1467476700000</td>\n",
       "      <td>Train</td>\n",
       "      <td>13</td>\n",
       "      <td>2</td>\n",
       "      <td>26</td>\n",
       "      <td>7</td>\n",
       "      <td>2016</td>\n",
       "      <td>5</td>\n",
       "    </tr>\n",
       "    <tr>\n",
       "      <th>1</th>\n",
       "      <td>81.0</td>\n",
       "      <td>3</td>\n",
       "      <td>6</td>\n",
       "      <td>1</td>\n",
       "      <td>5</td>\n",
       "      <td>75.0%</td>\n",
       "      <td>17</td>\n",
       "      <td>1.55</td>\n",
       "      <td>32227</td>\n",
       "      <td>2532</td>\n",
       "      <td>...</td>\n",
       "      <td>16</td>\n",
       "      <td>g3x</td>\n",
       "      <td>1467476700000</td>\n",
       "      <td>Train</td>\n",
       "      <td>13</td>\n",
       "      <td>2</td>\n",
       "      <td>26</td>\n",
       "      <td>7</td>\n",
       "      <td>2016</td>\n",
       "      <td>5</td>\n",
       "    </tr>\n",
       "    <tr>\n",
       "      <th>2</th>\n",
       "      <td>77.6</td>\n",
       "      <td>3</td>\n",
       "      <td>10</td>\n",
       "      <td>1</td>\n",
       "      <td>11</td>\n",
       "      <td>75.0%</td>\n",
       "      <td>16</td>\n",
       "      <td>1.41</td>\n",
       "      <td>32227</td>\n",
       "      <td>7382</td>\n",
       "      <td>...</td>\n",
       "      <td>16</td>\n",
       "      <td>g3x</td>\n",
       "      <td>1467476700000</td>\n",
       "      <td>Train</td>\n",
       "      <td>13</td>\n",
       "      <td>2</td>\n",
       "      <td>26</td>\n",
       "      <td>7</td>\n",
       "      <td>2016</td>\n",
       "      <td>5</td>\n",
       "    </tr>\n",
       "  </tbody>\n",
       "</table>\n",
       "<p>3 rows × 25 columns</p>\n",
       "</div>"
      ],
      "text/plain": [
       "     adr  assists  deaths  fkdiff  hs kdratio  kills  rating  match_id  \\\n",
       "0  163.2        3      10       1  10   90.0%     32    2.44     32227   \n",
       "1   81.0        3       6       1   5   75.0%     17    1.55     32227   \n",
       "2   77.6        3      10       1  11   75.0%     16    1.41     32227   \n",
       "\n",
       "   player_id  ...  team_2_score team_name      data_unix    map hour  day  \\\n",
       "0       5736  ...            16       g3x  1467476700000  Train   13    2   \n",
       "1       2532  ...            16       g3x  1467476700000  Train   13    2   \n",
       "2       7382  ...            16       g3x  1467476700000  Train   13    2   \n",
       "\n",
       "  week  month  year  weekday  \n",
       "0   26      7  2016        5  \n",
       "1   26      7  2016        5  \n",
       "2   26      7  2016        5  \n",
       "\n",
       "[3 rows x 25 columns]"
      ]
     },
     "execution_count": 2,
     "metadata": {},
     "output_type": "execute_result"
    }
   ],
   "source": [
    "total_data.head(3)"
   ]
  },
  {
   "cell_type": "markdown",
   "metadata": {},
   "source": [
    "***Creating variables***"
   ]
  },
  {
   "cell_type": "code",
   "execution_count": 3,
   "metadata": {},
   "outputs": [
    {
     "name": "stderr",
     "output_type": "stream",
     "text": [
      "C:\\Users\\Jose\\AppData\\Local\\Temp\\ipykernel_23060\\2809098974.py:11: DeprecationWarning: DataFrameGroupBy.apply operated on the grouping columns. This behavior is deprecated, and in a future version of pandas the grouping columns will be excluded from the operation. Either pass `include_groups=False` to exclude the groupings or explicitly select the grouping columns after groupby to silence this warning.\n",
      "  total_data['team_id'] = total_data.groupby('team_name').apply(find_most_common_team_number).reindex(total_data['team_name']).values\n"
     ]
    },
    {
     "data": {
      "text/html": [
       "<div>\n",
       "<style scoped>\n",
       "    .dataframe tbody tr th:only-of-type {\n",
       "        vertical-align: middle;\n",
       "    }\n",
       "\n",
       "    .dataframe tbody tr th {\n",
       "        vertical-align: top;\n",
       "    }\n",
       "\n",
       "    .dataframe thead th {\n",
       "        text-align: right;\n",
       "    }\n",
       "</style>\n",
       "<table border=\"1\" class=\"dataframe\">\n",
       "  <thead>\n",
       "    <tr style=\"text-align: right;\">\n",
       "      <th></th>\n",
       "      <th>adr</th>\n",
       "      <th>assists</th>\n",
       "      <th>deaths</th>\n",
       "      <th>fkdiff</th>\n",
       "      <th>hs</th>\n",
       "      <th>kdratio</th>\n",
       "      <th>kills</th>\n",
       "      <th>rating</th>\n",
       "      <th>match_id</th>\n",
       "      <th>player_id</th>\n",
       "      <th>...</th>\n",
       "      <th>hour</th>\n",
       "      <th>day</th>\n",
       "      <th>week</th>\n",
       "      <th>month</th>\n",
       "      <th>year</th>\n",
       "      <th>weekday</th>\n",
       "      <th>team_id</th>\n",
       "      <th>winning_team</th>\n",
       "      <th>winning_team_id</th>\n",
       "      <th>player_has_won</th>\n",
       "    </tr>\n",
       "  </thead>\n",
       "  <tbody>\n",
       "    <tr>\n",
       "      <th>0</th>\n",
       "      <td>163.2</td>\n",
       "      <td>3</td>\n",
       "      <td>10</td>\n",
       "      <td>1</td>\n",
       "      <td>10</td>\n",
       "      <td>90.0%</td>\n",
       "      <td>32</td>\n",
       "      <td>2.44</td>\n",
       "      <td>32227</td>\n",
       "      <td>5736</td>\n",
       "      <td>...</td>\n",
       "      <td>13</td>\n",
       "      <td>2</td>\n",
       "      <td>26</td>\n",
       "      <td>7</td>\n",
       "      <td>2016</td>\n",
       "      <td>5</td>\n",
       "      <td>6621</td>\n",
       "      <td>2</td>\n",
       "      <td>6621</td>\n",
       "      <td>1</td>\n",
       "    </tr>\n",
       "    <tr>\n",
       "      <th>1</th>\n",
       "      <td>81.0</td>\n",
       "      <td>3</td>\n",
       "      <td>6</td>\n",
       "      <td>1</td>\n",
       "      <td>5</td>\n",
       "      <td>75.0%</td>\n",
       "      <td>17</td>\n",
       "      <td>1.55</td>\n",
       "      <td>32227</td>\n",
       "      <td>2532</td>\n",
       "      <td>...</td>\n",
       "      <td>13</td>\n",
       "      <td>2</td>\n",
       "      <td>26</td>\n",
       "      <td>7</td>\n",
       "      <td>2016</td>\n",
       "      <td>5</td>\n",
       "      <td>6621</td>\n",
       "      <td>2</td>\n",
       "      <td>6621</td>\n",
       "      <td>1</td>\n",
       "    </tr>\n",
       "    <tr>\n",
       "      <th>2</th>\n",
       "      <td>77.6</td>\n",
       "      <td>3</td>\n",
       "      <td>10</td>\n",
       "      <td>1</td>\n",
       "      <td>11</td>\n",
       "      <td>75.0%</td>\n",
       "      <td>16</td>\n",
       "      <td>1.41</td>\n",
       "      <td>32227</td>\n",
       "      <td>7382</td>\n",
       "      <td>...</td>\n",
       "      <td>13</td>\n",
       "      <td>2</td>\n",
       "      <td>26</td>\n",
       "      <td>7</td>\n",
       "      <td>2016</td>\n",
       "      <td>5</td>\n",
       "      <td>6621</td>\n",
       "      <td>2</td>\n",
       "      <td>6621</td>\n",
       "      <td>1</td>\n",
       "    </tr>\n",
       "  </tbody>\n",
       "</table>\n",
       "<p>3 rows × 29 columns</p>\n",
       "</div>"
      ],
      "text/plain": [
       "     adr  assists  deaths  fkdiff  hs kdratio  kills  rating  match_id  \\\n",
       "0  163.2        3      10       1  10   90.0%     32    2.44     32227   \n",
       "1   81.0        3       6       1   5   75.0%     17    1.55     32227   \n",
       "2   77.6        3      10       1  11   75.0%     16    1.41     32227   \n",
       "\n",
       "   player_id  ...  hour day  week  month  year  weekday team_id  winning_team  \\\n",
       "0       5736  ...    13   2    26      7  2016        5    6621             2   \n",
       "1       2532  ...    13   2    26      7  2016        5    6621             2   \n",
       "2       7382  ...    13   2    26      7  2016        5    6621             2   \n",
       "\n",
       "  winning_team_id  player_has_won  \n",
       "0            6621               1  \n",
       "1            6621               1  \n",
       "2            6621               1  \n",
       "\n",
       "[3 rows x 29 columns]"
      ]
     },
     "execution_count": 3,
     "metadata": {},
     "output_type": "execute_result"
    }
   ],
   "source": [
    "    # Variable 1: player_team_id \n",
    "\n",
    "# 'team_id' function\n",
    "def find_most_common_team_number(group):\n",
    "        all_team_ids = pd.concat([group['team_1_id'], group['team_2_id']])\n",
    "        team_numbers = all_team_ids.dropna().astype(int)\n",
    "        most_common_team_number = np.argmax(np.bincount(team_numbers))\n",
    "        return most_common_team_number\n",
    "\n",
    "# Applying function to dataset\n",
    "total_data['team_id'] = total_data.groupby('team_name').apply(find_most_common_team_number).reindex(total_data['team_name']).values\n",
    "\n",
    "# ----------------------------------------------------------------------------------------------------------------------------\n",
    "\n",
    "    # Variable 2: winning_team\n",
    "\n",
    "# 'winning_team' function\n",
    "def get_winning_team(team_1_score, team_2_score):\n",
    "        if team_1_score == team_2_score: return 0\n",
    "        elif team_1_score > team_2_score: return 1\n",
    "        else: return 2\n",
    "\n",
    "# Aapplying function to dataset\n",
    "total_data['winning_team'] = total_data.apply(lambda row: get_winning_team(row['team_1_score'], row['team_2_score']), axis=1)\n",
    "\n",
    "# ----------------------------------------------------------------------------------------------------------------------------\n",
    "\n",
    "    # Variable 3: winning_team_id \n",
    "\n",
    "# Creating column called 'winning_team_id' (doesn't need function)\n",
    "total_data['winning_team_id'] = np.where(total_data['winning_team'] == 1, total_data['team_1_id'],\n",
    "                                np.where(total_data['winning_team'] == 2, total_data['team_2_id'], 0))\n",
    "\n",
    "# ----------------------------------------------------------------------------------------------------------------------------\n",
    "\n",
    "    # Variable 4: player_has_won \n",
    "\n",
    "# Creating column called 'player_has_won' (doesn't need function)\n",
    "total_data['player_has_won'] = np.where(total_data['winning_team_id'] == total_data['team_id'], 1, 0)\n",
    "\n",
    "# ----------------------------------------------------------------------------------------------------------------------------\n",
    "\n",
    "# Seleccting target variables\n",
    "\n",
    "target_1 = 'winning_team'\n",
    "target_2 = 'player_has_won'\n",
    "\n",
    "# Show small overview of the dataset\n",
    "total_data.head(3)\n"
   ]
  },
  {
   "cell_type": "markdown",
   "metadata": {},
   "source": [
    "After the four variables were created, it is possible to begin with the EDA analysis\n",
    "\n",
    "---"
   ]
  },
  {
   "cell_type": "markdown",
   "metadata": {},
   "source": [
    "### 4.1. Data description"
   ]
  },
  {
   "cell_type": "markdown",
   "metadata": {},
   "source": [
    "***Dataset general information***"
   ]
  },
  {
   "cell_type": "code",
   "execution_count": 4,
   "metadata": {},
   "outputs": [
    {
     "name": "stdout",
     "output_type": "stream",
     "text": [
      "<class 'pandas.core.frame.DataFrame'>\n",
      "RangeIndex: 946025 entries, 0 to 946024\n",
      "Data columns (total 29 columns):\n",
      " #   Column           Non-Null Count   Dtype  \n",
      "---  ------           --------------   -----  \n",
      " 0   adr              946025 non-null  object \n",
      " 1   assists          946025 non-null  int64  \n",
      " 2   deaths           946025 non-null  int64  \n",
      " 3   fkdiff           946025 non-null  int64  \n",
      " 4   hs               946025 non-null  int64  \n",
      " 5   kdratio          946025 non-null  object \n",
      " 6   kills            946025 non-null  int64  \n",
      " 7   rating           946025 non-null  float64\n",
      " 8   match_id         946025 non-null  int64  \n",
      " 9   player_id        946025 non-null  int64  \n",
      " 10  team_1_id        946025 non-null  int64  \n",
      " 11  team_1_name      946025 non-null  object \n",
      " 12  team_1_score     946025 non-null  int64  \n",
      " 13  team_2_id        946025 non-null  int64  \n",
      " 14  team_2_name      946025 non-null  object \n",
      " 15  team_2_score     946025 non-null  int64  \n",
      " 16  team_name        946025 non-null  object \n",
      " 17  data_unix        946025 non-null  int64  \n",
      " 18  map              946025 non-null  object \n",
      " 19  hour             946025 non-null  int64  \n",
      " 20  day              946025 non-null  int64  \n",
      " 21  week             946025 non-null  int64  \n",
      " 22  month            946025 non-null  int64  \n",
      " 23  year             946025 non-null  int64  \n",
      " 24  weekday          946025 non-null  int64  \n",
      " 25  team_id          946025 non-null  int64  \n",
      " 26  winning_team     946025 non-null  int64  \n",
      " 27  winning_team_id  946025 non-null  int64  \n",
      " 28  player_has_won   946025 non-null  int32  \n",
      "dtypes: float64(1), int32(1), int64(21), object(6)\n",
      "memory usage: 205.7+ MB\n"
     ]
    }
   ],
   "source": [
    "total_data.info()"
   ]
  },
  {
   "cell_type": "markdown",
   "metadata": {},
   "source": [
    "    1. Dataset general information:\n",
    "\n",
    "The dataset contains 946.025 rows and 27 columns (including the two possible target columns). It is possible to divide the columns in four different groups:\n",
    "\n",
    "- **Group 1: Match statistics**, from columns 0 to 7. These includes all the statistics from the game, including one called 'rating', which was created by the owner of the dataset. \n",
    "- **Group 2: IDs and names** of team, match and players, from columns 8 to 14.\n",
    "- **Group 3: Time data**, from 16 to 22. These includes all time features.\n",
    "- **Group 4: New variables and target** from 23 to 26. \n",
    "\n",
    "#\n",
    "\n",
    "    2. Data types:\n",
    "\n",
    "It is possible to find three types of data in this dataset: Numerical variables (columns 0 to 7), factorized categorical variables (columns 17 to 22), categorical variables (column 16 - map), numerical ids and score (columns 8 to 14, 23 and 25) and the two target variables, which are categorical (0, 1). There is only a time series variable, column 15 - data_unix, that provide the exact time the match was played.\n",
    "\n",
    "    3. Null values:\n",
    "\n",
    "According to the general information, there are no null-values in the dataset. However, It is possible to see that three variables- adr, kdratio, map - are listed as object type and may contain invalid values in it. \n",
    "\n",
    "\n",
    "Due to this, the next step will be converting all the datatypes and inspecting if there are null variables in it.\n",
    "\n"
   ]
  },
  {
   "cell_type": "markdown",
   "metadata": {},
   "source": [
    "### 4.2. Null values"
   ]
  },
  {
   "cell_type": "markdown",
   "metadata": {},
   "source": [
    "***Converting 'adr' and 'kdratio' to numeric columns***"
   ]
  },
  {
   "cell_type": "code",
   "execution_count": 5,
   "metadata": {},
   "outputs": [
    {
     "name": "stdout",
     "output_type": "stream",
     "text": [
      "<class 'pandas.core.frame.DataFrame'>\n",
      "RangeIndex: 946025 entries, 0 to 946024\n",
      "Data columns (total 2 columns):\n",
      " #   Column   Non-Null Count   Dtype  \n",
      "---  ------   --------------   -----  \n",
      " 0   adr      815862 non-null  float64\n",
      " 1   kdratio  815988 non-null  float64\n",
      "dtypes: float64(2)\n",
      "memory usage: 14.4 MB\n"
     ]
    }
   ],
   "source": [
    "# Convert'adr' and 'kdratio' to numeric columns\n",
    "total_data['adr'] = pd.to_numeric(total_data['adr'], errors='coerce')\n",
    "\n",
    "# Kdratio is a % number, so it will be divided by 100\n",
    "total_data['kdratio'] = pd.to_numeric(total_data['kdratio'].str.rstrip('%'), errors='coerce') / 100.0\n",
    "\n",
    "# print a list with the info of the previous variables\n",
    "total_data[['adr','kdratio']].info()"
   ]
  },
  {
   "cell_type": "markdown",
   "metadata": {},
   "source": [
    "After the replacement and data type conversion its possible to see the following: \n",
    "- Column 'adr' has 130.163 null values, a 13.758% of the total entries.\n",
    "- Column 'kdratio' has 130.037 null values, a 13.745% of the total entries."
   ]
  },
  {
   "cell_type": "markdown",
   "metadata": {},
   "source": [
    "***Analyze 'map' column***"
   ]
  },
  {
   "cell_type": "code",
   "execution_count": 6,
   "metadata": {},
   "outputs": [
    {
     "data": {
      "text/plain": [
       "array(['Train', 'Dust2', 'Dust2_se', 'Cache', 'Mirage', 'Nuke', 'Inferno',\n",
       "       'Cobblestone', 'Vertigo', 'Overpass', 'Nuke_se', 'Inferno_se',\n",
       "       'Mirage_ce', 'Train_se', 'Season', 'Mill_ce', 'Tuscan', 'Ancient',\n",
       "       'Dust_se', 'Train_ve'], dtype=object)"
      ]
     },
     "execution_count": 6,
     "metadata": {},
     "output_type": "execute_result"
    }
   ],
   "source": [
    "total_data['map'].unique()"
   ]
  },
  {
   "cell_type": "markdown",
   "metadata": {},
   "source": [
    "All the values in 'map' seems to be correct."
   ]
  },
  {
   "cell_type": "markdown",
   "metadata": {},
   "source": [
    "***Null-values replacement***"
   ]
  },
  {
   "cell_type": "markdown",
   "metadata": {},
   "source": [
    "Since the variables 'adr' and 'kdratio' are numeric and both count with a normal distribution, the replacement of the null entries will follow this criteria:\n",
    "1. Player's 'adr' or 'kdratio' will be filled with the player's mean of them.\n",
    "2. If there is no information from the player to fill the nan, the row will be deleted.\n"
   ]
  },
  {
   "cell_type": "code",
   "execution_count": 7,
   "metadata": {},
   "outputs": [
    {
     "name": "stdout",
     "output_type": "stream",
     "text": [
      "<class 'pandas.core.frame.DataFrame'>\n",
      "RangeIndex: 946025 entries, 0 to 946024\n",
      "Data columns (total 2 columns):\n",
      " #   Column   Non-Null Count   Dtype  \n",
      "---  ------   --------------   -----  \n",
      " 0   adr      930980 non-null  float64\n",
      " 1   kdratio  931002 non-null  float64\n",
      "dtypes: float64(2)\n",
      "memory usage: 14.4 MB\n"
     ]
    }
   ],
   "source": [
    "# Group by 'player_id' and fill NaN values in each player's 'adr' column with the mean of non-null values for that player\n",
    "total_data['adr'] = total_data.groupby('player_id')['adr'].transform(lambda x: x.fillna(x[x.notna()].mean()))\n",
    "total_data['kdratio'] = total_data.groupby('player_id')['kdratio'].transform(lambda x: x.fillna(x[x.notna()].mean()))\n",
    "\n",
    "# print a list with the info of the previous variables\n",
    "total_data[['adr','kdratio']].info()"
   ]
  },
  {
   "cell_type": "markdown",
   "metadata": {},
   "source": [
    "After the replacement, 'adr' and 'kdratio' still have null values (15.045 and 15.023 respectively).\n",
    "The rest of rows with null values (1.59% of the dataset) will be deleted."
   ]
  },
  {
   "cell_type": "code",
   "execution_count": 8,
   "metadata": {},
   "outputs": [
    {
     "name": "stdout",
     "output_type": "stream",
     "text": [
      "<class 'pandas.core.frame.DataFrame'>\n",
      "Index: 930980 entries, 0 to 946024\n",
      "Data columns (total 2 columns):\n",
      " #   Column   Non-Null Count   Dtype  \n",
      "---  ------   --------------   -----  \n",
      " 0   adr      930980 non-null  float64\n",
      " 1   kdratio  930980 non-null  float64\n",
      "dtypes: float64(2)\n",
      "memory usage: 21.3 MB\n"
     ]
    }
   ],
   "source": [
    "# Saving a copy of the rows with null values\n",
    "null_rows = total_data.loc[total_data.isnull().any(axis=1)]\n",
    "\n",
    "# Deleting rows with null values\n",
    "total_data = total_data.dropna()\n",
    "\n",
    "# print a list with the info of the previous variables\n",
    "total_data[['adr','kdratio']].info()"
   ]
  },
  {
   "cell_type": "markdown",
   "metadata": {},
   "source": [
    "Without the null-values, the total length of the dataset is 930.980 rows."
   ]
  },
  {
   "cell_type": "markdown",
   "metadata": {},
   "source": [
    "### 4.3. Multivariable analysis"
   ]
  },
  {
   "cell_type": "markdown",
   "metadata": {},
   "source": [
    "***Numerical - numerical analysis***\n",
    "\n",
    "The following analysis will be held by parts. First, the *statistcs* group will be analyzed and then the *time* group. Both target will be taken into account."
   ]
  },
  {
   "cell_type": "code",
   "execution_count": 9,
   "metadata": {},
   "outputs": [
    {
     "data": {
      "text/plain": [
       "\"numeric_variables = ['adr', 'assists', 'deaths', 'fkdiff', 'hs', 'kdratio', 'kills','rating']\\n\\nfor column in numeric_variables:\\n    # Setting up the subplots for target_1\\n    fig, axes = plt.subplots(nrows=1, ncols=2, figsize=(15, 5))\\n\\n    # Regression plot for target_1\\n    sns.regplot(x=column, y=target_1, data=total_data, ax=axes[0])\\n    axes[0].set_title('Regplot: {} vs. {}'.format(column, target_1))\\n\\n    # Heatmap of correlation for target_1\\n    sns.heatmap(total_data[[column, target_1]].corr().iloc[0:1, :], annot=True, cmap='coolwarm', ax=axes[1])\\n    axes[1].set_title('Correlation Heatmap: {} vs. {}'.format(column, target_1))\\n\\n    # Show the plot for each column with target_1\\n    plt.tight_layout()\\n    plt.show()\\n\\n    # Setting up the subplots for target_2\\n    fig, axes = plt.subplots(nrows=1, ncols=2, figsize=(15, 5))\\n\\n    # Regression plot for target_2\\n    sns.regplot(x=column, y=target_2, data=total_data, ax=axes[0])\\n    axes[0].set_title('Regplot: {} vs. {}'.format(column, target_2))\\n\\n    # Heatmap of correlation for target_2\\n    sns.heatmap(total_data[[column, target_2]].corr().iloc[0:1, :], annot=True, cmap='coolwarm', ax=axes[1])\\n    axes[1].set_title('Correlation Heatmap: {} vs. {}'.format(column, target_2))\\n\\n    # Show the plot for each column with target_2\\n    plt.tight_layout()\\n    plt.show()\""
      ]
     },
     "execution_count": 9,
     "metadata": {},
     "output_type": "execute_result"
    }
   ],
   "source": [
    "\"\"\"numeric_variables = ['adr', 'assists', 'deaths', 'fkdiff', 'hs', 'kdratio', 'kills','rating']\n",
    "\n",
    "for column in numeric_variables:\n",
    "    # Setting up the subplots for target_1\n",
    "    fig, axes = plt.subplots(nrows=1, ncols=2, figsize=(15, 5))\n",
    "\n",
    "    # Regression plot for target_1\n",
    "    sns.regplot(x=column, y=target_1, data=total_data, ax=axes[0])\n",
    "    axes[0].set_title('Regplot: {} vs. {}'.format(column, target_1))\n",
    "\n",
    "    # Heatmap of correlation for target_1\n",
    "    sns.heatmap(total_data[[column, target_1]].corr().iloc[0:1, :], annot=True, cmap='coolwarm', ax=axes[1])\n",
    "    axes[1].set_title('Correlation Heatmap: {} vs. {}'.format(column, target_1))\n",
    "\n",
    "    # Show the plot for each column with target_1\n",
    "    plt.tight_layout()\n",
    "    plt.show()\n",
    "\n",
    "    # Setting up the subplots for target_2\n",
    "    fig, axes = plt.subplots(nrows=1, ncols=2, figsize=(15, 5))\n",
    "\n",
    "    # Regression plot for target_2\n",
    "    sns.regplot(x=column, y=target_2, data=total_data, ax=axes[0])\n",
    "    axes[0].set_title('Regplot: {} vs. {}'.format(column, target_2))\n",
    "\n",
    "    # Heatmap of correlation for target_2\n",
    "    sns.heatmap(total_data[[column, target_2]].corr().iloc[0:1, :], annot=True, cmap='coolwarm', ax=axes[1])\n",
    "    axes[1].set_title('Correlation Heatmap: {} vs. {}'.format(column, target_2))\n",
    "\n",
    "    # Show the plot for each column with target_2\n",
    "    plt.tight_layout()\n",
    "    plt.show()\"\"\"\n"
   ]
  },
  {
   "cell_type": "markdown",
   "metadata": {},
   "source": [
    "After watching the numerical - numerical plots, it is possible to resume the information:\n",
    "\n",
    "| Predictor | Corr with winning_team | Corr with player_has_won |\n",
    "|-----------|-------------------------|---------------------------|\n",
    "| adr       | -0.0025                 | 0.34                      |\n",
    "| assists   | 0.005                   | 0.19                      |\n",
    "| deaths    | 0.026                   | -0.41                     |\n",
    "| fkdiff    | 0.00067                 | 0.27                      |\n",
    "| hs        | 0.017                   | 0.19                      |\n",
    "| kdratio   | 0.0074                  | 0.52                      |\n",
    "| kills     | 0.019                   | 0.30                      |\n",
    "| Rating    | 0.00072                 | 0.55                      |\n",
    "\n",
    "\n",
    "It is important to state that the variable winning_team cannot be used as a target due to its low performance with other variables. Since 100% of the players have played as team 1 or team 2 during their career, this strongly affects the outcome of the variable. However, when the second path is taken and the variable player_has_won is analyized, the performance rise up to acceptable levels. This is a resume with the correlations: \n",
    "\n",
    "- **Rating** (0.55), **Kdratio** (0.52) and **deaths** (-0.41) have the strongest correlation.\n",
    "- **adr** (0.34), **kills** (0.30) and **fkdiff** (0.27) has a good correlation.\n",
    "- **assists** (0.19) and **hs** (0.19) have a poor correlation."
   ]
  },
  {
   "cell_type": "markdown",
   "metadata": {},
   "source": [
    "***Map factorization***"
   ]
  },
  {
   "cell_type": "markdown",
   "metadata": {},
   "source": [
    "The only categorial variable that is has been not factorized is 'map'. The rest of the variables are already numbers. "
   ]
  },
  {
   "cell_type": "code",
   "execution_count": 10,
   "metadata": {},
   "outputs": [],
   "source": [
    "# Creating a column called 'map_n' that has the information factorized\n",
    "total_data['map_n'], unique_maps = pd.factorize(total_data['map'])"
   ]
  },
  {
   "cell_type": "markdown",
   "metadata": {},
   "source": [
    "***Categorical - numerical analysis***"
   ]
  },
  {
   "cell_type": "code",
   "execution_count": 11,
   "metadata": {},
   "outputs": [
    {
     "data": {
      "text/plain": [
       "\"\\n\\nnumeric_variables_2 = ['map_n', 'hour', 'day', 'week', 'month', 'year', 'weekday']\\n\\nfor column in numeric_variables_2:\\n    # Setting up the subplots for target_1\\n    fig, axes = plt.subplots(nrows=1, ncols=2, figsize=(15, 5))\\n\\n    # Regression plot for target_1\\n    sns.regplot(x=column, y=target_1, data=total_data, ax=axes[0])\\n    axes[0].set_title('Regplot: {} vs. {}'.format(column, target_1))\\n\\n    # Heatmap of correlation for target_1\\n    sns.heatmap(total_data[[column, target_1]].corr().iloc[0:1, :], annot=True, cmap='coolwarm', ax=axes[1])\\n    axes[1].set_title('Correlation Heatmap: {} vs. {}'.format(column, target_1))\\n\\n    # Show the plot for each column with target_1\\n    plt.tight_layout()\\n    plt.show()\\n\\n    # Setting up the subplots for target_2\\n    fig, axes = plt.subplots(nrows=1, ncols=2, figsize=(15, 5))\\n\\n    # Regression plot for target_2\\n    sns.regplot(x=column, y=target_2, data=total_data, ax=axes[0])\\n    axes[0].set_title('Regplot: {} vs. {}'.format(column, target_2))\\n\\n    # Heatmap of correlation for target_2\\n    sns.heatmap(total_data[[column, target_2]].corr().iloc[0:1, :], annot=True, cmap='coolwarm', ax=axes[1])\\n    axes[1].set_title('Correlation Heatmap: {} vs. {}'.format(column, target_2))\\n\\n    # Show the plot for each column with target_2\\n    plt.tight_layout()\\n    plt.show()\\n\\n    \""
      ]
     },
     "execution_count": 11,
     "metadata": {},
     "output_type": "execute_result"
    }
   ],
   "source": [
    "\"\"\"\n",
    "\n",
    "numeric_variables_2 = ['map_n', 'hour', 'day', 'week', 'month', 'year', 'weekday']\n",
    "\n",
    "for column in numeric_variables_2:\n",
    "    # Setting up the subplots for target_1\n",
    "    fig, axes = plt.subplots(nrows=1, ncols=2, figsize=(15, 5))\n",
    "\n",
    "    # Regression plot for target_1\n",
    "    sns.regplot(x=column, y=target_1, data=total_data, ax=axes[0])\n",
    "    axes[0].set_title('Regplot: {} vs. {}'.format(column, target_1))\n",
    "\n",
    "    # Heatmap of correlation for target_1\n",
    "    sns.heatmap(total_data[[column, target_1]].corr().iloc[0:1, :], annot=True, cmap='coolwarm', ax=axes[1])\n",
    "    axes[1].set_title('Correlation Heatmap: {} vs. {}'.format(column, target_1))\n",
    "\n",
    "    # Show the plot for each column with target_1\n",
    "    plt.tight_layout()\n",
    "    plt.show()\n",
    "\n",
    "    # Setting up the subplots for target_2\n",
    "    fig, axes = plt.subplots(nrows=1, ncols=2, figsize=(15, 5))\n",
    "\n",
    "    # Regression plot for target_2\n",
    "    sns.regplot(x=column, y=target_2, data=total_data, ax=axes[0])\n",
    "    axes[0].set_title('Regplot: {} vs. {}'.format(column, target_2))\n",
    "\n",
    "    # Heatmap of correlation for target_2\n",
    "    sns.heatmap(total_data[[column, target_2]].corr().iloc[0:1, :], annot=True, cmap='coolwarm', ax=axes[1])\n",
    "    axes[1].set_title('Correlation Heatmap: {} vs. {}'.format(column, target_2))\n",
    "\n",
    "    # Show the plot for each column with target_2\n",
    "    plt.tight_layout()\n",
    "    plt.show()\n",
    "\n",
    "    \"\"\""
   ]
  },
  {
   "cell_type": "markdown",
   "metadata": {},
   "source": [
    "After the plotting, it is possible to resume the info in a table: \n",
    "\n",
    "| Variable | Corr. with Winning Team | Corr. with Player Has Won |\n",
    "|----------|-------------------------|---------------------------|\n",
    "| map      | -0.0029                 | -0.0031                   |\n",
    "| hour     | -0.0026                 | -0.0032                   |\n",
    "| day      | 0.0047                  | -0.00012                  |\n",
    "| week     | -0.0054                 | 0.0024                    |\n",
    "| month    | -0.0059                 | 0.0026                    |\n",
    "| year     | 0.032                   | 0.0093                    |\n",
    "| weekday  | -0.00096                | 0.0055                    |\n",
    "\n",
    "In both cases, the correlations with the target variables are extremely low, meaning that they have almost no use in the analysis. In the overall, the first target (winning_team) performed better than the second target (player_has_won)."
   ]
  },
  {
   "cell_type": "markdown",
   "metadata": {},
   "source": [
    "***General heatmap***"
   ]
  },
  {
   "cell_type": "markdown",
   "metadata": {},
   "source": [
    "For the heatmap, onyl the statistical variables will be used since they are the ones with the best correlation with target."
   ]
  },
  {
   "cell_type": "code",
   "execution_count": 12,
   "metadata": {},
   "outputs": [
    {
     "data": {
      "text/plain": [
       "'\\n\\nheatmap_data = total_data[[\\'player_has_won\\', \\n                 \\'adr\\', \\n                 \\'assists\\', \\n                 \\'deaths\\', \\n                 \\'fkdiff\\', \\n                 \\'hs\\', \\n                 \\'kdratio\\', \\n                 \\'kills\\',\\n                 \\'rating\\',]]\\n\\ncorrelation_matrix = heatmap_data.corr()\\n\\n# Set up the matplotlib figure\\nplt.figure(figsize=(12, 10))\\n\\n# Create a heatmap with Seaborn\\nsns.heatmap(correlation_matrix, annot=True, cmap=\\'coolwarm\\', fmt=\".2f\", linewidths=.5)\\n\\n# Show the plot\\nplt.title(\\'Correlation Heatmap\\')\\nplt.show()'"
      ]
     },
     "execution_count": 12,
     "metadata": {},
     "output_type": "execute_result"
    }
   ],
   "source": [
    "\"\"\"\n",
    "\n",
    "heatmap_data = total_data[['player_has_won', \n",
    "                 'adr', \n",
    "                 'assists', \n",
    "                 'deaths', \n",
    "                 'fkdiff', \n",
    "                 'hs', \n",
    "                 'kdratio', \n",
    "                 'kills',\n",
    "                 'rating',]]\n",
    "\n",
    "correlation_matrix = heatmap_data.corr()\n",
    "\n",
    "# Set up the matplotlib figure\n",
    "plt.figure(figsize=(12, 10))\n",
    "\n",
    "# Create a heatmap with Seaborn\n",
    "sns.heatmap(correlation_matrix, annot=True, cmap='coolwarm', fmt=\".2f\", linewidths=.5)\n",
    "\n",
    "# Show the plot\n",
    "plt.title('Correlation Heatmap')\n",
    "plt.show()\"\"\""
   ]
  },
  {
   "cell_type": "markdown",
   "metadata": {},
   "source": [
    "This graph shows that there are some strong correlations between variables in the dataset. For example, adr (average damage per round) and kills are also strongly correlated variables. It is possible to say that from the original dataset of 26 columns, the EDA found that only seven predictors are important to predict the possible outcome of a player in a CS-GO match.\n",
    "\n",
    "There is a special mention of the variable **'rating'**. This is made up of other predictors, so its correlation with the rest is the highest in the dataset. However, we do not count with the information to know exactly how this variable is made. This could negatively affect the research and the ML model."
   ]
  },
  {
   "cell_type": "markdown",
   "metadata": {},
   "source": [
    "### 4.4 Outlier analysis"
   ]
  },
  {
   "cell_type": "markdown",
   "metadata": {},
   "source": [
    "INCOMPLETE"
   ]
  }
 ],
 "metadata": {
  "kernelspec": {
   "display_name": "Python 3",
   "language": "python",
   "name": "python3"
  },
  "language_info": {
   "codemirror_mode": {
    "name": "ipython",
    "version": 3
   },
   "file_extension": ".py",
   "mimetype": "text/x-python",
   "name": "python",
   "nbconvert_exporter": "python",
   "pygments_lexer": "ipython3",
   "version": "3.11.7"
  }
 },
 "nbformat": 4,
 "nbformat_minor": 2
}
