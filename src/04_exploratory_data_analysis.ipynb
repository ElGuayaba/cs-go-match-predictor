{
 "cells": [
  {
   "cell_type": "markdown",
   "metadata": {},
   "source": [
    "# 4. Exploratory Data Analaysis\n",
    "---"
   ]
  },
  {
   "cell_type": "code",
   "execution_count": 23,
   "metadata": {},
   "outputs": [],
   "source": [
    "# Libraries\n",
    "import pandas as pd\n",
    "import numpy as np\n",
    "import seaborn as sns\n",
    "import matplotlib.pyplot as plt\n",
    "\n",
    "# Dataset\n",
    "total_data = pd.read_csv('..\\data\\interim\\player_match_data.csv')"
   ]
  },
  {
   "cell_type": "markdown",
   "metadata": {},
   "source": [
    "4.0. Creating target variable\n",
    "\n",
    "For our EDA analysis, we are going to create a categorical target variable called 'winning_team' and consists in a number (0, 1 or 2).\n",
    "- 0 means draw\n",
    "- 1 means that team 1 has won the match\n",
    "- 2 means that team 2 has won the match"
   ]
  },
  {
   "cell_type": "code",
   "execution_count": 24,
   "metadata": {},
   "outputs": [
    {
     "data": {
      "text/html": [
       "<div>\n",
       "<style scoped>\n",
       "    .dataframe tbody tr th:only-of-type {\n",
       "        vertical-align: middle;\n",
       "    }\n",
       "\n",
       "    .dataframe tbody tr th {\n",
       "        vertical-align: top;\n",
       "    }\n",
       "\n",
       "    .dataframe thead th {\n",
       "        text-align: right;\n",
       "    }\n",
       "</style>\n",
       "<table border=\"1\" class=\"dataframe\">\n",
       "  <thead>\n",
       "    <tr style=\"text-align: right;\">\n",
       "      <th></th>\n",
       "      <th>adr</th>\n",
       "      <th>assists</th>\n",
       "      <th>deaths</th>\n",
       "      <th>fkdiff</th>\n",
       "      <th>hs</th>\n",
       "      <th>kdratio</th>\n",
       "      <th>kills</th>\n",
       "      <th>match_id</th>\n",
       "      <th>player_id</th>\n",
       "      <th>rating</th>\n",
       "      <th>...</th>\n",
       "      <th>team_2_id</th>\n",
       "      <th>team_2_score</th>\n",
       "      <th>map</th>\n",
       "      <th>hour</th>\n",
       "      <th>day</th>\n",
       "      <th>week</th>\n",
       "      <th>month</th>\n",
       "      <th>year</th>\n",
       "      <th>weekday</th>\n",
       "      <th>winning_team</th>\n",
       "    </tr>\n",
       "  </thead>\n",
       "  <tbody>\n",
       "    <tr>\n",
       "      <th>0</th>\n",
       "      <td>163.2</td>\n",
       "      <td>3</td>\n",
       "      <td>10</td>\n",
       "      <td>1</td>\n",
       "      <td>10</td>\n",
       "      <td>90.0%</td>\n",
       "      <td>32</td>\n",
       "      <td>32227</td>\n",
       "      <td>5736</td>\n",
       "      <td>2.44</td>\n",
       "      <td>...</td>\n",
       "      <td>6621</td>\n",
       "      <td>16</td>\n",
       "      <td>Train</td>\n",
       "      <td>13</td>\n",
       "      <td>2</td>\n",
       "      <td>26</td>\n",
       "      <td>7</td>\n",
       "      <td>2016</td>\n",
       "      <td>5</td>\n",
       "      <td>2</td>\n",
       "    </tr>\n",
       "    <tr>\n",
       "      <th>1</th>\n",
       "      <td>81.0</td>\n",
       "      <td>3</td>\n",
       "      <td>6</td>\n",
       "      <td>1</td>\n",
       "      <td>5</td>\n",
       "      <td>75.0%</td>\n",
       "      <td>17</td>\n",
       "      <td>32227</td>\n",
       "      <td>2532</td>\n",
       "      <td>1.55</td>\n",
       "      <td>...</td>\n",
       "      <td>6621</td>\n",
       "      <td>16</td>\n",
       "      <td>Train</td>\n",
       "      <td>13</td>\n",
       "      <td>2</td>\n",
       "      <td>26</td>\n",
       "      <td>7</td>\n",
       "      <td>2016</td>\n",
       "      <td>5</td>\n",
       "      <td>2</td>\n",
       "    </tr>\n",
       "    <tr>\n",
       "      <th>2</th>\n",
       "      <td>77.6</td>\n",
       "      <td>3</td>\n",
       "      <td>10</td>\n",
       "      <td>1</td>\n",
       "      <td>11</td>\n",
       "      <td>75.0%</td>\n",
       "      <td>16</td>\n",
       "      <td>32227</td>\n",
       "      <td>7382</td>\n",
       "      <td>1.41</td>\n",
       "      <td>...</td>\n",
       "      <td>6621</td>\n",
       "      <td>16</td>\n",
       "      <td>Train</td>\n",
       "      <td>13</td>\n",
       "      <td>2</td>\n",
       "      <td>26</td>\n",
       "      <td>7</td>\n",
       "      <td>2016</td>\n",
       "      <td>5</td>\n",
       "      <td>2</td>\n",
       "    </tr>\n",
       "  </tbody>\n",
       "</table>\n",
       "<p>3 rows × 23 columns</p>\n",
       "</div>"
      ],
      "text/plain": [
       "     adr  assists  deaths  fkdiff  hs kdratio  kills  match_id  player_id  \\\n",
       "0  163.2        3      10       1  10   90.0%     32     32227       5736   \n",
       "1   81.0        3       6       1   5   75.0%     17     32227       2532   \n",
       "2   77.6        3      10       1  11   75.0%     16     32227       7382   \n",
       "\n",
       "   rating  ...  team_2_id  team_2_score    map  hour  day week  month  year  \\\n",
       "0    2.44  ...       6621            16  Train    13    2   26      7  2016   \n",
       "1    1.55  ...       6621            16  Train    13    2   26      7  2016   \n",
       "2    1.41  ...       6621            16  Train    13    2   26      7  2016   \n",
       "\n",
       "   weekday  winning_team  \n",
       "0        5             2  \n",
       "1        5             2  \n",
       "2        5             2  \n",
       "\n",
       "[3 rows x 23 columns]"
      ]
     },
     "execution_count": 24,
     "metadata": {},
     "output_type": "execute_result"
    }
   ],
   "source": [
    "# Define a function that calculates the winning team\n",
    "def get_winning_team(team_1_score, team_2_score):\n",
    "    if team_1_score == team_2_score:\n",
    "        return 0\n",
    "    elif team_1_score > team_2_score:\n",
    "        return 1\n",
    "    else:\n",
    "        return 2\n",
    "\n",
    "# Apply the function to create the 'winning_team' column\n",
    "total_data['winning_team'] = total_data.apply(lambda row: get_winning_team(row['team_1_score'], row['team_2_score']), axis=1)\n",
    "\n",
    "# Target variable\n",
    "target = 'winning_team'\n",
    "\n",
    "# Show the first rows\n",
    "total_data.head(3)"
   ]
  },
  {
   "cell_type": "markdown",
   "metadata": {},
   "source": [
    "### 4.1. Data description"
   ]
  },
  {
   "cell_type": "code",
   "execution_count": 25,
   "metadata": {},
   "outputs": [
    {
     "name": "stdout",
     "output_type": "stream",
     "text": [
      "<class 'pandas.core.frame.DataFrame'>\n",
      "RangeIndex: 946025 entries, 0 to 946024\n",
      "Data columns (total 23 columns):\n",
      " #   Column        Non-Null Count   Dtype  \n",
      "---  ------        --------------   -----  \n",
      " 0   adr           946025 non-null  object \n",
      " 1   assists       946025 non-null  int64  \n",
      " 2   deaths        946025 non-null  int64  \n",
      " 3   fkdiff        946025 non-null  int64  \n",
      " 4   hs            946025 non-null  int64  \n",
      " 5   kdratio       946025 non-null  object \n",
      " 6   kills         946025 non-null  int64  \n",
      " 7   match_id      946025 non-null  int64  \n",
      " 8   player_id     946025 non-null  int64  \n",
      " 9   rating        946025 non-null  float64\n",
      " 10  data_unix     946025 non-null  int64  \n",
      " 11  team_1_id     946025 non-null  int64  \n",
      " 12  team_1_score  946025 non-null  int64  \n",
      " 13  team_2_id     946025 non-null  int64  \n",
      " 14  team_2_score  946025 non-null  int64  \n",
      " 15  map           946025 non-null  object \n",
      " 16  hour          946025 non-null  int64  \n",
      " 17  day           946025 non-null  int64  \n",
      " 18  week          946025 non-null  int64  \n",
      " 19  month         946025 non-null  int64  \n",
      " 20  year          946025 non-null  int64  \n",
      " 21  weekday       946025 non-null  int64  \n",
      " 22  winning_team  946025 non-null  int64  \n",
      "dtypes: float64(1), int64(19), object(3)\n",
      "memory usage: 166.0+ MB\n"
     ]
    }
   ],
   "source": [
    "total_data.info()"
   ]
  },
  {
   "cell_type": "code",
   "execution_count": 26,
   "metadata": {},
   "outputs": [
    {
     "data": {
      "text/html": [
       "<div>\n",
       "<style scoped>\n",
       "    .dataframe tbody tr th:only-of-type {\n",
       "        vertical-align: middle;\n",
       "    }\n",
       "\n",
       "    .dataframe tbody tr th {\n",
       "        vertical-align: top;\n",
       "    }\n",
       "\n",
       "    .dataframe thead th {\n",
       "        text-align: right;\n",
       "    }\n",
       "</style>\n",
       "<table border=\"1\" class=\"dataframe\">\n",
       "  <thead>\n",
       "    <tr style=\"text-align: right;\">\n",
       "      <th></th>\n",
       "      <th>adr</th>\n",
       "      <th>assists</th>\n",
       "      <th>deaths</th>\n",
       "      <th>fkdiff</th>\n",
       "      <th>hs</th>\n",
       "      <th>kdratio</th>\n",
       "      <th>kills</th>\n",
       "      <th>match_id</th>\n",
       "      <th>player_id</th>\n",
       "      <th>rating</th>\n",
       "      <th>...</th>\n",
       "      <th>team_2_id</th>\n",
       "      <th>team_2_score</th>\n",
       "      <th>map</th>\n",
       "      <th>hour</th>\n",
       "      <th>day</th>\n",
       "      <th>week</th>\n",
       "      <th>month</th>\n",
       "      <th>year</th>\n",
       "      <th>weekday</th>\n",
       "      <th>winning_team</th>\n",
       "    </tr>\n",
       "  </thead>\n",
       "  <tbody>\n",
       "    <tr>\n",
       "      <th>0</th>\n",
       "      <td>163.2</td>\n",
       "      <td>3</td>\n",
       "      <td>10</td>\n",
       "      <td>1</td>\n",
       "      <td>10</td>\n",
       "      <td>90.0%</td>\n",
       "      <td>32</td>\n",
       "      <td>32227</td>\n",
       "      <td>5736</td>\n",
       "      <td>2.44</td>\n",
       "      <td>...</td>\n",
       "      <td>6621</td>\n",
       "      <td>16</td>\n",
       "      <td>Train</td>\n",
       "      <td>13</td>\n",
       "      <td>2</td>\n",
       "      <td>26</td>\n",
       "      <td>7</td>\n",
       "      <td>2016</td>\n",
       "      <td>5</td>\n",
       "      <td>2</td>\n",
       "    </tr>\n",
       "    <tr>\n",
       "      <th>1</th>\n",
       "      <td>81.0</td>\n",
       "      <td>3</td>\n",
       "      <td>6</td>\n",
       "      <td>1</td>\n",
       "      <td>5</td>\n",
       "      <td>75.0%</td>\n",
       "      <td>17</td>\n",
       "      <td>32227</td>\n",
       "      <td>2532</td>\n",
       "      <td>1.55</td>\n",
       "      <td>...</td>\n",
       "      <td>6621</td>\n",
       "      <td>16</td>\n",
       "      <td>Train</td>\n",
       "      <td>13</td>\n",
       "      <td>2</td>\n",
       "      <td>26</td>\n",
       "      <td>7</td>\n",
       "      <td>2016</td>\n",
       "      <td>5</td>\n",
       "      <td>2</td>\n",
       "    </tr>\n",
       "    <tr>\n",
       "      <th>2</th>\n",
       "      <td>77.6</td>\n",
       "      <td>3</td>\n",
       "      <td>10</td>\n",
       "      <td>1</td>\n",
       "      <td>11</td>\n",
       "      <td>75.0%</td>\n",
       "      <td>16</td>\n",
       "      <td>32227</td>\n",
       "      <td>7382</td>\n",
       "      <td>1.41</td>\n",
       "      <td>...</td>\n",
       "      <td>6621</td>\n",
       "      <td>16</td>\n",
       "      <td>Train</td>\n",
       "      <td>13</td>\n",
       "      <td>2</td>\n",
       "      <td>26</td>\n",
       "      <td>7</td>\n",
       "      <td>2016</td>\n",
       "      <td>5</td>\n",
       "      <td>2</td>\n",
       "    </tr>\n",
       "  </tbody>\n",
       "</table>\n",
       "<p>3 rows × 23 columns</p>\n",
       "</div>"
      ],
      "text/plain": [
       "     adr  assists  deaths  fkdiff  hs kdratio  kills  match_id  player_id  \\\n",
       "0  163.2        3      10       1  10   90.0%     32     32227       5736   \n",
       "1   81.0        3       6       1   5   75.0%     17     32227       2532   \n",
       "2   77.6        3      10       1  11   75.0%     16     32227       7382   \n",
       "\n",
       "   rating  ...  team_2_id  team_2_score    map  hour  day week  month  year  \\\n",
       "0    2.44  ...       6621            16  Train    13    2   26      7  2016   \n",
       "1    1.55  ...       6621            16  Train    13    2   26      7  2016   \n",
       "2    1.41  ...       6621            16  Train    13    2   26      7  2016   \n",
       "\n",
       "   weekday  winning_team  \n",
       "0        5             2  \n",
       "1        5             2  \n",
       "2        5             2  \n",
       "\n",
       "[3 rows x 23 columns]"
      ]
     },
     "execution_count": 26,
     "metadata": {},
     "output_type": "execute_result"
    }
   ],
   "source": [
    "total_data.head(3)"
   ]
  },
  {
   "cell_type": "markdown",
   "metadata": {},
   "source": [
    "### 4.2. Null values"
   ]
  },
  {
   "cell_type": "markdown",
   "metadata": {},
   "source": [
    "the following columns are listed as 'object' and may contain invalid values: adr, kdratio, map"
   ]
  },
  {
   "cell_type": "code",
   "execution_count": 27,
   "metadata": {},
   "outputs": [],
   "source": [
    "# Convert'adr' and 'kdratio' to numeric columns\n",
    "total_data['adr'] = pd.to_numeric(total_data['adr'], errors='coerce')\n",
    "total_data['kdratio'] = pd.to_numeric(total_data['kdratio'].str.rstrip('%'), errors='coerce') / 100.0"
   ]
  },
  {
   "cell_type": "code",
   "execution_count": 28,
   "metadata": {},
   "outputs": [
    {
     "name": "stdout",
     "output_type": "stream",
     "text": [
      "<class 'pandas.core.frame.DataFrame'>\n",
      "RangeIndex: 946025 entries, 0 to 946024\n",
      "Data columns (total 23 columns):\n",
      " #   Column        Non-Null Count   Dtype  \n",
      "---  ------        --------------   -----  \n",
      " 0   adr           815862 non-null  float64\n",
      " 1   assists       946025 non-null  int64  \n",
      " 2   deaths        946025 non-null  int64  \n",
      " 3   fkdiff        946025 non-null  int64  \n",
      " 4   hs            946025 non-null  int64  \n",
      " 5   kdratio       815988 non-null  float64\n",
      " 6   kills         946025 non-null  int64  \n",
      " 7   match_id      946025 non-null  int64  \n",
      " 8   player_id     946025 non-null  int64  \n",
      " 9   rating        946025 non-null  float64\n",
      " 10  data_unix     946025 non-null  int64  \n",
      " 11  team_1_id     946025 non-null  int64  \n",
      " 12  team_1_score  946025 non-null  int64  \n",
      " 13  team_2_id     946025 non-null  int64  \n",
      " 14  team_2_score  946025 non-null  int64  \n",
      " 15  map           946025 non-null  object \n",
      " 16  hour          946025 non-null  int64  \n",
      " 17  day           946025 non-null  int64  \n",
      " 18  week          946025 non-null  int64  \n",
      " 19  month         946025 non-null  int64  \n",
      " 20  year          946025 non-null  int64  \n",
      " 21  weekday       946025 non-null  int64  \n",
      " 22  winning_team  946025 non-null  int64  \n",
      "dtypes: float64(3), int64(19), object(1)\n",
      "memory usage: 166.0+ MB\n"
     ]
    }
   ],
   "source": [
    "total_data.info()"
   ]
  },
  {
   "cell_type": "markdown",
   "metadata": {},
   "source": [
    "After the replacement and data type conversion:\n",
    "- Column 'adr' has 130.163 null values, a 13.758% of the total entries.\n",
    "- Column 'kdratio' has 130.037 null values, a 13.745% of the total entries."
   ]
  },
  {
   "cell_type": "code",
   "execution_count": null,
   "metadata": {},
   "outputs": [
    {
     "data": {
      "text/plain": [
       "array(['Train', 'Dust2', 'Dust2_se', 'Cache', 'Mirage', 'Nuke', 'Inferno',\n",
       "       'Cobblestone', 'Vertigo', 'Overpass', 'Nuke_se', 'Inferno_se',\n",
       "       'Mirage_ce', 'Train_se', 'Season', 'Mill_ce', 'Tuscan', 'Ancient',\n",
       "       'Dust_se', 'Train_ve'], dtype=object)"
      ]
     },
     "execution_count": 85,
     "metadata": {},
     "output_type": "execute_result"
    }
   ],
   "source": [
    "total_data['map'].unique()"
   ]
  },
  {
   "cell_type": "markdown",
   "metadata": {},
   "source": [
    "Map has no wrong values."
   ]
  },
  {
   "cell_type": "markdown",
   "metadata": {},
   "source": [
    "Next, since the variables 'adr' and 'kdratio' are numeric and both count with a normal distribution, the replacement of the null entries will follow this criteria:\n",
    "- First, a player's 'adr' or 'kdratio' will be filled with the player's mean of them.\n",
    "- Second, if there is no info to fill the nan, the general mean will be used to fill the remanent rows.\n"
   ]
  },
  {
   "cell_type": "code",
   "execution_count": 29,
   "metadata": {},
   "outputs": [],
   "source": [
    "# Group by 'player_id' and fill NaN values in each player's 'adr' column with the mean of non-null values for that player\n",
    "total_data['adr'] = total_data.groupby('player_id')['adr'].transform(lambda x: x.fillna(x[x.notna()].mean()))\n",
    "total_data['kdratio'] = total_data.groupby('player_id')['kdratio'].transform(lambda x: x.fillna(x[x.notna()].mean()))\n",
    "\n",
    "# There are players that has no data, fill remaining NaN values in 'adr' column with the mean of the entire 'adr' column\n",
    "total_data['adr'] = total_data['adr'].fillna(total_data['adr'].mean())\n",
    "total_data['kdratio'] = total_data['kdratio'].fillna(total_data['kdratio'].mean())"
   ]
  },
  {
   "cell_type": "code",
   "execution_count": 30,
   "metadata": {},
   "outputs": [
    {
     "name": "stdout",
     "output_type": "stream",
     "text": [
      "<class 'pandas.core.frame.DataFrame'>\n",
      "RangeIndex: 946025 entries, 0 to 946024\n",
      "Data columns (total 23 columns):\n",
      " #   Column        Non-Null Count   Dtype  \n",
      "---  ------        --------------   -----  \n",
      " 0   adr           946025 non-null  float64\n",
      " 1   assists       946025 non-null  int64  \n",
      " 2   deaths        946025 non-null  int64  \n",
      " 3   fkdiff        946025 non-null  int64  \n",
      " 4   hs            946025 non-null  int64  \n",
      " 5   kdratio       946025 non-null  float64\n",
      " 6   kills         946025 non-null  int64  \n",
      " 7   match_id      946025 non-null  int64  \n",
      " 8   player_id     946025 non-null  int64  \n",
      " 9   rating        946025 non-null  float64\n",
      " 10  data_unix     946025 non-null  int64  \n",
      " 11  team_1_id     946025 non-null  int64  \n",
      " 12  team_1_score  946025 non-null  int64  \n",
      " 13  team_2_id     946025 non-null  int64  \n",
      " 14  team_2_score  946025 non-null  int64  \n",
      " 15  map           946025 non-null  object \n",
      " 16  hour          946025 non-null  int64  \n",
      " 17  day           946025 non-null  int64  \n",
      " 18  week          946025 non-null  int64  \n",
      " 19  month         946025 non-null  int64  \n",
      " 20  year          946025 non-null  int64  \n",
      " 21  weekday       946025 non-null  int64  \n",
      " 22  winning_team  946025 non-null  int64  \n",
      "dtypes: float64(3), int64(19), object(1)\n",
      "memory usage: 166.0+ MB\n"
     ]
    }
   ],
   "source": [
    "total_data.info()"
   ]
  }
 ],
 "metadata": {
  "kernelspec": {
   "display_name": "Python 3",
   "language": "python",
   "name": "python3"
  },
  "language_info": {
   "codemirror_mode": {
    "name": "ipython",
    "version": 3
   },
   "file_extension": ".py",
   "mimetype": "text/x-python",
   "name": "python",
   "nbconvert_exporter": "python",
   "pygments_lexer": "ipython3",
   "version": "3.11.5"
  }
 },
 "nbformat": 4,
 "nbformat_minor": 2
}
