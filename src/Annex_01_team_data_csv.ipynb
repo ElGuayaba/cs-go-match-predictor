{
 "cells": [
  {
   "cell_type": "markdown",
   "metadata": {},
   "source": [
    "# ANNEX 1: Creating a team_data csv file\n",
    "---"
   ]
  },
  {
   "cell_type": "markdown",
   "metadata": {},
   "source": [
    "Our interest in this document is to create a new dataframe that contains all the teams names and their IDs.\n",
    "\n",
    "After its creation, it will be stored in /data/raw/team_data.csv"
   ]
  },
  {
   "cell_type": "code",
   "execution_count": 68,
   "metadata": {},
   "outputs": [
    {
     "name": "stderr",
     "output_type": "stream",
     "text": [
      "C:\\Users\\Francesc\\AppData\\Local\\Temp\\ipykernel_15436\\3299149500.py:4: DtypeWarning: Columns (14) have mixed types. Specify dtype option on import or set low_memory=False.\n",
      "  total_data = pd.read_csv('../data/raw/match_results.csv')\n"
     ]
    }
   ],
   "source": [
    "# LIBRARIES\n",
    "import pandas as pd\n",
    "# DATASET\n",
    "total_data = pd.read_csv('../data/raw/match_results.csv')"
   ]
  },
  {
   "cell_type": "markdown",
   "metadata": {},
   "source": [
    "### Step 1. Create a new dataframe with only the teams names and IDs"
   ]
  },
  {
   "cell_type": "code",
   "execution_count": 69,
   "metadata": {},
   "outputs": [],
   "source": [
    "# SPLIT THE INFORMATION IN TEAM 1 & 2 LINK COLUMNS\n",
    "series = total_data['team_1_link'].str.split('/')\n",
    "series_2 = total_data['team_2_link'].str.split('/')\n",
    "\n",
    "# CREATE ONE DATAFRAME FOR EACH TEAM\n",
    "team_1_data = series.apply(pd.Series)\n",
    "team_2_data = series_2.apply(pd.Series)\n",
    "\n",
    "# CLEAN UNNECESARY COLUMNS\n",
    "team_1_data = team_1_data[[3,4]]\n",
    "team_2_data = team_2_data[[3,4]]\n",
    "\n",
    "# CONCAT BOTH TABLES\n",
    "team_data = pd.concat([team_1_data, team_2_data], ignore_index=True)"
   ]
  },
  {
   "cell_type": "markdown",
   "metadata": {},
   "source": [
    "### Step 2. Drop duplicates (testing all options)"
   ]
  },
  {
   "cell_type": "code",
   "execution_count": 70,
   "metadata": {},
   "outputs": [
    {
     "name": "stdout",
     "output_type": "stream",
     "text": [
      "total teams using both columns: 5259\n",
      "total teams using only id: 5259\n",
      "total teams using only names: 5259\n"
     ]
    }
   ],
   "source": [
    "# DROP DUPLICATES (TEST ALL OPTIONS)\n",
    "    # OPTION 1: BOTH\n",
    "both = team_data.drop_duplicates()\n",
    "print(f\"total teams using both columns: {both.shape[0]}\")\n",
    "    # OPTION 2: ONLY ID\n",
    "only_id = team_data[3].drop_duplicates()\n",
    "print(f\"total teams using only id: {only_id.shape[0]}\")\n",
    "    # OPTION 3: ONLY NAMES\n",
    "only_names = team_data[4].drop_duplicates()\n",
    "print(f\"total teams using only names: {only_id.shape[0]}\")"
   ]
  },
  {
   "cell_type": "markdown",
   "metadata": {},
   "source": [
    "This confirms that all the teams have **only one name and have not changed throughout the years**."
   ]
  },
  {
   "cell_type": "markdown",
   "metadata": {},
   "source": [
    "### Step 3. Review dataset"
   ]
  },
  {
   "cell_type": "code",
   "execution_count": 71,
   "metadata": {},
   "outputs": [
    {
     "data": {
      "text/html": [
       "<div>\n",
       "<style scoped>\n",
       "    .dataframe tbody tr th:only-of-type {\n",
       "        vertical-align: middle;\n",
       "    }\n",
       "\n",
       "    .dataframe tbody tr th {\n",
       "        vertical-align: top;\n",
       "    }\n",
       "\n",
       "    .dataframe thead th {\n",
       "        text-align: right;\n",
       "    }\n",
       "</style>\n",
       "<table border=\"1\" class=\"dataframe\">\n",
       "  <thead>\n",
       "    <tr style=\"text-align: right;\">\n",
       "      <th></th>\n",
       "      <th>team_id</th>\n",
       "      <th>team_name</th>\n",
       "    </tr>\n",
       "  </thead>\n",
       "  <tbody>\n",
       "    <tr>\n",
       "      <th>0</th>\n",
       "      <td>3180</td>\n",
       "      <td>crovent</td>\n",
       "    </tr>\n",
       "    <tr>\n",
       "      <th>1</th>\n",
       "      <td>4411</td>\n",
       "      <td>nip</td>\n",
       "    </tr>\n",
       "    <tr>\n",
       "      <th>2</th>\n",
       "      <td>4413</td>\n",
       "      <td>lemondogs</td>\n",
       "    </tr>\n",
       "    <tr>\n",
       "      <th>3</th>\n",
       "      <td>4416</td>\n",
       "      <td>buykey</td>\n",
       "    </tr>\n",
       "    <tr>\n",
       "      <th>4</th>\n",
       "      <td>4429</td>\n",
       "      <td>dynamic</td>\n",
       "    </tr>\n",
       "    <tr>\n",
       "      <th>...</th>\n",
       "      <td>...</td>\n",
       "      <td>...</td>\n",
       "    </tr>\n",
       "    <tr>\n",
       "      <th>5254</th>\n",
       "      <td>11152</td>\n",
       "      <td>carnal-instinct</td>\n",
       "    </tr>\n",
       "    <tr>\n",
       "      <th>5255</th>\n",
       "      <td>11154</td>\n",
       "      <td>ex-marlian</td>\n",
       "    </tr>\n",
       "    <tr>\n",
       "      <th>5256</th>\n",
       "      <td>11157</td>\n",
       "      <td>boys-without-pyjamas</td>\n",
       "    </tr>\n",
       "    <tr>\n",
       "      <th>5257</th>\n",
       "      <td>11158</td>\n",
       "      <td>n2e</td>\n",
       "    </tr>\n",
       "    <tr>\n",
       "      <th>5258</th>\n",
       "      <td>11159</td>\n",
       "      <td>yenicherry</td>\n",
       "    </tr>\n",
       "  </tbody>\n",
       "</table>\n",
       "<p>5259 rows × 2 columns</p>\n",
       "</div>"
      ],
      "text/plain": [
       "      team_id             team_name\n",
       "0        3180               crovent\n",
       "1        4411                   nip\n",
       "2        4413             lemondogs\n",
       "3        4416                buykey\n",
       "4        4429               dynamic\n",
       "...       ...                   ...\n",
       "5254    11152       carnal-instinct\n",
       "5255    11154            ex-marlian\n",
       "5256    11157  boys-without-pyjamas\n",
       "5257    11158                   n2e\n",
       "5258    11159            yenicherry\n",
       "\n",
       "[5259 rows x 2 columns]"
      ]
     },
     "execution_count": 71,
     "metadata": {},
     "output_type": "execute_result"
    }
   ],
   "source": [
    "# CHANGE COLUMNS NAME AND ORDER THE TABLE BY TEAM ID\n",
    "total_data = both.rename(columns={3: 'team_id', 4: 'team_name'})\n",
    "\n",
    "# CONVERT 'team_id' TO INT64\n",
    "total_data['team_id'] = total_data['team_id'].astype(int)\n",
    "\n",
    "# SORT TABLE BY TEAM ID AND RESET INDEX\n",
    "total_data.sort_values(by='team_id',inplace=True)\n",
    "total_data.reset_index(drop=True, inplace=True)\n",
    "total_data"
   ]
  },
  {
   "cell_type": "markdown",
   "metadata": {},
   "source": [
    "### Save dataset"
   ]
  },
  {
   "cell_type": "code",
   "execution_count": 72,
   "metadata": {},
   "outputs": [],
   "source": [
    "# SAVE THE DATASET\n",
    "total_data.to_csv('../data/raw/team_data.csv')"
   ]
  }
 ],
 "metadata": {
  "kernelspec": {
   "display_name": "Python 3",
   "language": "python",
   "name": "python3"
  },
  "language_info": {
   "codemirror_mode": {
    "name": "ipython",
    "version": 3
   },
   "file_extension": ".py",
   "mimetype": "text/x-python",
   "name": "python",
   "nbconvert_exporter": "python",
   "pygments_lexer": "ipython3",
   "version": "3.11.5"
  }
 },
 "nbformat": 4,
 "nbformat_minor": 2
}
