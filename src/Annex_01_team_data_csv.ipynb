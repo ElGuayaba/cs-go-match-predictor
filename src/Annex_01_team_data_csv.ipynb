{
 "cells": [
  {
   "cell_type": "markdown",
   "metadata": {},
   "source": [
    "# ANNEX 1: Creating a team_data csv file\n",
    "---"
   ]
  },
  {
   "cell_type": "markdown",
   "metadata": {},
   "source": [
    "The objective of this Notebook is to create a new dataframe that contains all the teams names and their IDs.\n",
    "\n",
    "After its creation, it will be stored in */data/interim/team_data.csv*"
   ]
  },
  {
   "cell_type": "code",
   "execution_count": 14,
   "metadata": {},
   "outputs": [
    {
     "name": "stderr",
     "output_type": "stream",
     "text": [
      "C:\\Users\\Francesc\\AppData\\Local\\Temp\\ipykernel_4348\\393496171.py:4: DtypeWarning: Columns (14) have mixed types. Specify dtype option on import or set low_memory=False.\n",
      "  total_data = pd.read_csv('../data/raw/match_results.csv')\n"
     ]
    }
   ],
   "source": [
    "# Libraries used\n",
    "import pandas as pd\n",
    "# Dataset\n",
    "total_data = pd.read_csv('../data/raw/match_results.csv')"
   ]
  },
  {
   "cell_type": "markdown",
   "metadata": {},
   "source": [
    "### Step 1. Create a new dataframe with only the teams names and IDs"
   ]
  },
  {
   "cell_type": "code",
   "execution_count": 19,
   "metadata": {},
   "outputs": [
    {
     "name": "stdout",
     "output_type": "stream",
     "text": [
      "<class 'pandas.core.frame.DataFrame'>\n",
      "RangeIndex: 189214 entries, 0 to 189213\n",
      "Data columns (total 2 columns):\n",
      " #   Column     Non-Null Count   Dtype \n",
      "---  ------     --------------   ----- \n",
      " 0   team_id    189214 non-null  int64 \n",
      " 1   team_name  189214 non-null  object\n",
      "dtypes: int64(1), object(1)\n",
      "memory usage: 2.9+ MB\n"
     ]
    }
   ],
   "source": [
    "# Create two dataframes with the team names and IDs\n",
    "unique_teams_1 = total_data[['team_1_id', 'team_1_name']].rename(columns={'team_1_id': 'team_id', 'team_1_name': 'team_name'})\n",
    "unique_teams_2 = total_data[['team_2_id', 'team_2_name']].rename(columns={'team_2_id': 'team_id', 'team_2_name': 'team_name'})\n",
    "# Concat boths dataframes in one\n",
    "team_data = pd.concat([unique_teams_1, unique_teams_2]).reset_index(drop=True)\n",
    "team_data.info()"
   ]
  },
  {
   "cell_type": "markdown",
   "metadata": {},
   "source": [
    "### Step 2. Drop duplicates (testing all options)"
   ]
  },
  {
   "cell_type": "code",
   "execution_count": 20,
   "metadata": {},
   "outputs": [
    {
     "name": "stdout",
     "output_type": "stream",
     "text": [
      "total teams using both columns: 5259\n",
      "total teams using only id: 5259\n",
      "total teams using only names: 5259\n"
     ]
    }
   ],
   "source": [
    "# DROP DUPLICATES (TEST ALL OPTIONS)\n",
    "    # OPTION 1: BOTH\n",
    "both = team_data.drop_duplicates()\n",
    "print(f\"total teams using both columns: {both.shape[0]}\")\n",
    "    # OPTION 2: ONLY ID\n",
    "only_id = team_data['team_id'].drop_duplicates()\n",
    "print(f\"total teams using only id: {only_id.shape[0]}\")\n",
    "    # OPTION 3: ONLY NAMES\n",
    "only_names = team_data['team_name'].drop_duplicates()\n",
    "print(f\"total teams using only names: {only_id.shape[0]}\")"
   ]
  },
  {
   "cell_type": "markdown",
   "metadata": {},
   "source": [
    "This confirms that all the teams have **only one name and have not changed throughout the years**."
   ]
  },
  {
   "cell_type": "markdown",
   "metadata": {},
   "source": [
    "### Step 3. Review dataset"
   ]
  },
  {
   "cell_type": "code",
   "execution_count": 27,
   "metadata": {},
   "outputs": [
    {
     "data": {
      "text/html": [
       "<div>\n",
       "<style scoped>\n",
       "    .dataframe tbody tr th:only-of-type {\n",
       "        vertical-align: middle;\n",
       "    }\n",
       "\n",
       "    .dataframe tbody tr th {\n",
       "        vertical-align: top;\n",
       "    }\n",
       "\n",
       "    .dataframe thead th {\n",
       "        text-align: right;\n",
       "    }\n",
       "</style>\n",
       "<table border=\"1\" class=\"dataframe\">\n",
       "  <thead>\n",
       "    <tr style=\"text-align: right;\">\n",
       "      <th></th>\n",
       "      <th>team_name</th>\n",
       "    </tr>\n",
       "    <tr>\n",
       "      <th>team_id</th>\n",
       "      <th></th>\n",
       "    </tr>\n",
       "  </thead>\n",
       "  <tbody>\n",
       "    <tr>\n",
       "      <th>3180</th>\n",
       "      <td>croveNt</td>\n",
       "    </tr>\n",
       "    <tr>\n",
       "      <th>4411</th>\n",
       "      <td>NIP</td>\n",
       "    </tr>\n",
       "    <tr>\n",
       "      <th>4413</th>\n",
       "      <td>Lemondogs</td>\n",
       "    </tr>\n",
       "    <tr>\n",
       "      <th>4416</th>\n",
       "      <td>BuyKey</td>\n",
       "    </tr>\n",
       "    <tr>\n",
       "      <th>4429</th>\n",
       "      <td>Dynamic</td>\n",
       "    </tr>\n",
       "  </tbody>\n",
       "</table>\n",
       "</div>"
      ],
      "text/plain": [
       "         team_name\n",
       "team_id           \n",
       "3180       croveNt\n",
       "4411           NIP\n",
       "4413     Lemondogs\n",
       "4416        BuyKey\n",
       "4429       Dynamic"
      ]
     },
     "execution_count": 27,
     "metadata": {},
     "output_type": "execute_result"
    }
   ],
   "source": [
    "# Set team_id as index\n",
    "team_data = both.set_index('team_id').sort_index()\n",
    "team_data.head(5)\n"
   ]
  },
  {
   "cell_type": "markdown",
   "metadata": {},
   "source": [
    "### Save dataset"
   ]
  },
  {
   "cell_type": "code",
   "execution_count": 28,
   "metadata": {},
   "outputs": [],
   "source": [
    "# SAVE THE DATASET\n",
    "total_data.to_csv('../data/interim/team_data.csv')"
   ]
  }
 ],
 "metadata": {
  "kernelspec": {
   "display_name": "Python 3",
   "language": "python",
   "name": "python3"
  },
  "language_info": {
   "codemirror_mode": {
    "name": "ipython",
    "version": 3
   },
   "file_extension": ".py",
   "mimetype": "text/x-python",
   "name": "python",
   "nbconvert_exporter": "python",
   "pygments_lexer": "ipython3",
   "version": "3.11.5"
  }
 },
 "nbformat": 4,
 "nbformat_minor": 2
}
