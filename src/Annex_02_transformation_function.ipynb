{
 "cells": [
  {
   "cell_type": "code",
   "execution_count": 42,
   "metadata": {},
   "outputs": [
    {
     "data": {
      "text/html": [
       "<div>\n",
       "<style scoped>\n",
       "    .dataframe tbody tr th:only-of-type {\n",
       "        vertical-align: middle;\n",
       "    }\n",
       "\n",
       "    .dataframe tbody tr th {\n",
       "        vertical-align: top;\n",
       "    }\n",
       "\n",
       "    .dataframe thead th {\n",
       "        text-align: right;\n",
       "    }\n",
       "</style>\n",
       "<table border=\"1\" class=\"dataframe\">\n",
       "  <thead>\n",
       "    <tr style=\"text-align: right;\">\n",
       "      <th></th>\n",
       "      <th>player_id</th>\n",
       "      <th>player_nick</th>\n",
       "    </tr>\n",
       "  </thead>\n",
       "  <tbody>\n",
       "    <tr>\n",
       "      <th>0</th>\n",
       "      <td>5736</td>\n",
       "      <td>kNgV-</td>\n",
       "    </tr>\n",
       "    <tr>\n",
       "      <th>1</th>\n",
       "      <td>2532</td>\n",
       "      <td>mch</td>\n",
       "    </tr>\n",
       "    <tr>\n",
       "      <th>2</th>\n",
       "      <td>7382</td>\n",
       "      <td>steel</td>\n",
       "    </tr>\n",
       "    <tr>\n",
       "      <th>3</th>\n",
       "      <td>5698</td>\n",
       "      <td>pava</td>\n",
       "    </tr>\n",
       "    <tr>\n",
       "      <th>4</th>\n",
       "      <td>10563</td>\n",
       "      <td>caike</td>\n",
       "    </tr>\n",
       "  </tbody>\n",
       "</table>\n",
       "</div>"
      ],
      "text/plain": [
       "   player_id player_nick\n",
       "0       5736       kNgV-\n",
       "1       2532         mch\n",
       "2       7382       steel\n",
       "3       5698        pava\n",
       "4      10563       caike"
      ]
     },
     "execution_count": 42,
     "metadata": {},
     "output_type": "execute_result"
    }
   ],
   "source": [
    "# Libraries\n",
    "import pandas as pd\n",
    "import numpy as np\n",
    "import seaborn as sns\n",
    "import matplotlib.pyplot as plt\n",
    "from sklearn.preprocessing import StandardScaler\n",
    "\n",
    "# Dataset\n",
    "player_data = pd.read_csv('../data/raw/match_players.csv')\n",
    "\n",
    "player_data = player_data[['player_id', 'player_nick']].drop_duplicates()\n",
    "\n",
    "# SAVE THE DATASET\n",
    "player_data.to_csv('../data/interim/player_data.csv', index=False)\n",
    "\n",
    "player_data.head()\n",
    "\n"
   ]
  },
  {
   "cell_type": "code",
   "execution_count": 43,
   "metadata": {},
   "outputs": [
    {
     "data": {
      "text/plain": [
       "[10563, 5736, 2532, 5698, 7382]"
      ]
     },
     "execution_count": 43,
     "metadata": {},
     "output_type": "execute_result"
    }
   ],
   "source": [
    "# Input has to be a string array of len 5\n",
    "def get_team_id_from_name(player_names_list):\n",
    "    players = player_data[player_data['player_nick'].isin(player_names_list)]\n",
    "\n",
    "    return players.groupby('player_nick').first()['player_id'].to_list()\n",
    "\n",
    "get_team_id_from_name([\n",
    "    'kNgV-',\n",
    "    'mch',\n",
    "    'steel',\n",
    "    'pava',\n",
    "    'caike']\n",
    "    )"
   ]
  },
  {
   "cell_type": "code",
   "execution_count": 44,
   "metadata": {},
   "outputs": [],
   "source": [
    "from pickle import load\n",
    "\n",
    "with open(\"../models/scalers/standard_scaler.pkl\", 'rb') as file:\n",
    "    scaler = load(file)"
   ]
  },
  {
   "cell_type": "code",
   "execution_count": 69,
   "metadata": {},
   "outputs": [
    {
     "name": "stderr",
     "output_type": "stream",
     "text": [
      "/home/alamo/.pyenv/versions/3.11.5/lib/python3.11/site-packages/sklearn/base.py:465: UserWarning: X does not have valid feature names, but StandardScaler was fitted with feature names\n",
      "  warnings.warn(\n"
     ]
    },
    {
     "data": {
      "text/plain": [
       "[array([[0.92070511, 1.71417266]]),\n",
       " array([[0., 0., 0., 0., 0., 0., 0., 0., 0., 0., 0., 0., 0., 0., 0.]])]"
      ]
     },
     "execution_count": 69,
     "metadata": {},
     "output_type": "execute_result"
    }
   ],
   "source": [
    "team1 = get_team_id_from_name(['kNgV-', 'mch', 'steel', 'pava', 'caike'])\n",
    "\n",
    "team2 = get_team_id_from_name(['lrz', 'invul', 'gut0', 'fv', 'cogu'])\n",
    "\n",
    "# Input params have to be list-like\n",
    "def transform_input(team1, team2):\n",
    "    team1 = pd.DataFrame(team1)\n",
    "    team2 = pd.DataFrame(team2)\n",
    "\n",
    "    hash_function = lambda x: hash(frozenset(x))\n",
    "    team1 = team1.apply(hash_function)\n",
    "    team2 = team2.apply(hash_function)\n",
    "\n",
    "    transformed_input = scaler.transform(pd.concat([team1,team2], axis=1))\n",
    "\n",
    "    return [transformed_input, np.array([[0.0 for i in range(15)]])]\n",
    "\n",
    "transformation_result = transform_input(team1, team2)\n"
   ]
  },
  {
   "cell_type": "code",
   "execution_count": 70,
   "metadata": {},
   "outputs": [
    {
     "name": "stdout",
     "output_type": "stream",
     "text": [
      "1/1 [==============================] - 0s 72ms/step\n"
     ]
    },
    {
     "data": {
      "text/plain": [
       "array([[1.]], dtype=float32)"
      ]
     },
     "execution_count": 70,
     "metadata": {},
     "output_type": "execute_result"
    }
   ],
   "source": [
    "with open(\"../models/csgo_match_results_predictor-beta1.pkl\", 'rb') as file:\n",
    "    model = load(file)\n",
    "\n",
    "model.predict(transformation_result)"
   ]
  },
  {
   "cell_type": "code",
   "execution_count": 75,
   "metadata": {},
   "outputs": [
    {
     "name": "stdout",
     "output_type": "stream",
     "text": [
      "1/1 [==============================] - 0s 15ms/step\n"
     ]
    },
    {
     "name": "stderr",
     "output_type": "stream",
     "text": [
      "/home/alamo/.pyenv/versions/3.11.5/lib/python3.11/site-packages/sklearn/base.py:465: UserWarning: X does not have valid feature names, but StandardScaler was fitted with feature names\n",
      "  warnings.warn(\n"
     ]
    },
    {
     "data": {
      "text/plain": [
       "array([[1.]], dtype=float32)"
      ]
     },
     "execution_count": 75,
     "metadata": {},
     "output_type": "execute_result"
    }
   ],
   "source": [
    "class InputTransformer:\n",
    "    player_data = pd.read_csv('../data/interim/player_data.csv')\n",
    "\n",
    "    scaler = scaler\n",
    "\n",
    "    def __init__(self):\n",
    "        pass\n",
    "\n",
    "    def _get_team_id_from_name(self, player_names_list):\n",
    "        players = player_data[player_data['player_nick'].isin(player_names_list)]\n",
    "        return players.groupby('player_nick').first()['player_id'].to_list()\n",
    "\n",
    "    def transform_input(self, team1, team2):\n",
    "        team1 = self._get_team_id_from_name(team1)\n",
    "        team2 = self._get_team_id_from_name(team2)\n",
    "\n",
    "        team1 = pd.DataFrame(team1)\n",
    "        team2 = pd.DataFrame(team2)\n",
    "\n",
    "        hash_function = lambda x: hash(frozenset(x))\n",
    "        team1 = team1.apply(hash_function)\n",
    "        team2 = team2.apply(hash_function)\n",
    "\n",
    "        transformed_input = scaler.transform(pd.concat([team1,team2], axis=1))\n",
    "\n",
    "        return [transformed_input, np.array([[0.0 for i in range(15)]])]\n",
    "\n",
    "# Create an instance\n",
    "obj = InputTransformer()\n",
    "\n",
    "team1 = get_team_id_from_name(['kNgV-', 'mch', 'steel', 'pava', 'caike'])\n",
    "\n",
    "team2 = get_team_id_from_name(['lrz', 'invul', 'gut0', 'fv', 'cogu'])\n",
    "\n",
    "transformed_input = obj.transform_input(['kNgV-', 'mch', 'steel', 'pava', 'caike'], ['lrz', 'invul', 'gut0', 'fv', 'cogu'])\n",
    "\n",
    "model.predict(transformed_input)\n"
   ]
  },
  {
   "cell_type": "code",
   "execution_count": null,
   "metadata": {},
   "outputs": [],
   "source": [
    "from pickle import dump\n",
    "\n",
    "with open(\"../models/input_transformer.pkl\", \"wb\") as f:\n",
    "    dump(obj, f)"
   ]
  }
 ],
 "metadata": {
  "kernelspec": {
   "display_name": "Python 3",
   "language": "python",
   "name": "python3"
  },
  "language_info": {
   "codemirror_mode": {
    "name": "ipython",
    "version": 3
   },
   "file_extension": ".py",
   "mimetype": "text/x-python",
   "name": "python",
   "nbconvert_exporter": "python",
   "pygments_lexer": "ipython3",
   "version": "3.11.5"
  }
 },
 "nbformat": 4,
 "nbformat_minor": 2
}
